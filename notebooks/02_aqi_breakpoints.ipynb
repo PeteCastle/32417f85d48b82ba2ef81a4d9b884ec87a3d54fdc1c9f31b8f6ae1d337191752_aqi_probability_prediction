{
 "cells": [
  {
   "cell_type": "markdown",
   "id": "36448ce0",
   "metadata": {},
   "source": [
    "# Supplementary Notebook 1: AQI Breakpoints Transformation\n",
    "\n"
   ]
  },
  {
   "cell_type": "code",
   "execution_count": null,
   "id": "be72e887",
   "metadata": {},
   "outputs": [],
   "source": [
    "import pandas as pd\n",
    "import requests\n",
    "from io import StringIO\n",
    "import hashlib\n",
    "from pathlib import Path\n",
    "import os\n",
    "from src.constants import (\n",
    "    DATASET_DIR,\n",
    "    CACHE_DIR,\n",
    "    MODELS_DIR,\n",
    "    TQDM_DISABLE,\n",
    "    CITY_NAMES,\n",
    "    POLLUTANT_COLUMNS,\n",
    ")"
   ]
  },
  {
   "cell_type": "code",
   "execution_count": null,
   "id": "d80a3fb4",
   "metadata": {},
   "outputs": [],
   "source": [
    "MOLAR_MASSES = {\n",
    "    \"NO2\": 46.0055,\n",
    "    \"O3\": 48.00,\n",
    "    \"CO\": 28.01,\n",
    "    \"SO2\": 64.066,\n",
    "}\n",
    "\n",
    "GAS_MAPPINGS = {\n",
    "    \"Carbon monoxide\": \"CO\",\n",
    "    \"Nitrogen dioxide (NO2)\": \"NO2\",\n",
    "    \"Ozone\" : \"O3\",\n",
    "    \"PM2.5 - Local Conditions\": \"PM25\",\n",
    "    \"PM10 Total 0-10um STP\": \"PM10\",\n",
    "    \"Sulfur dioxide\": \"SO2\",\n",
    "}"
   ]
  },
  {
   "cell_type": "code",
   "execution_count": null,
   "id": "e1fca2db",
   "metadata": {},
   "outputs": [],
   "source": [
    "df = pd.read_csv(\"https://aqs.epa.gov/aqsweb/documents/codetables/aqi_breakpoints.csv\")\n",
    "df = df.drop(['Parameter Code','Low AQI','High AQI'], axis=1)\n",
    "df = df[df['Parameter'].isin(GAS_MAPPINGS.keys())]\n",
    "df['Parameter'] = df['Parameter'].map(GAS_MAPPINGS)\n",
    "\n",
    "# Filter out\n",
    "df = df[~(\n",
    "    ((df['Parameter'] == 'O3') & (df['Duration Description'] == '8-HR RUN AVG BEGIN HOUR')) |\n",
    "    ((df['Parameter'] == 'PM10') & (df['Duration Description'] == '24-HR BLK AVG')) |\n",
    "    ((df['Parameter'] == 'PM25') & (df['Duration Description'] == '24-HR BLK AVG')) |\n",
    "    ((df['Parameter'] == 'SO2') & (df['Duration Description'] == '24-HR BLK AVG'))\n",
    ")]"
   ]
  },
  {
   "cell_type": "code",
   "execution_count": null,
   "id": "a8d6e347",
   "metadata": {},
   "outputs": [],
   "source": [
    "def to_ugm3(row, col):\n",
    "    gas = row['Parameter']\n",
    "    val = row[col]\n",
    "    if gas in [\"PM25\", \"PM10\"] or pd.isna(val):\n",
    "        return val\n",
    "    unit = \"ppb\" if gas in [\"NO2\", \"SO2\"] else \"ppm\"\n",
    "    molar_mass = MOLAR_MASSES[gas]\n",
    "    if unit == \"ppm\":\n",
    "        return val * 1000 * molar_mass / 24.45\n",
    "    else:\n",
    "        return val * molar_mass / 24.45\n",
    "\n",
    "# Apply conversion\n",
    "df[\"Low Breakpoint (ug/m3)\"] = df.apply(lambda row: to_ugm3(row, \"Low Breakpoint\"), axis=1)\n",
    "df[\"High Breakpoint (ug/m3)\"] = df.apply(lambda row: to_ugm3(row, \"High Breakpoint\"), axis=1)\n"
   ]
  },
  {
   "cell_type": "code",
   "execution_count": null,
   "id": "68dc8d1c",
   "metadata": {},
   "outputs": [],
   "source": [
    "df"
   ]
  },
  {
   "cell_type": "code",
   "execution_count": null,
   "id": "d30a9e96",
   "metadata": {},
   "outputs": [],
   "source": [
    "df.to_csv(DATASET_DIR / \"processed\" / \"aqi_breakpoints.csv\", index=False)"
   ]
  }
 ],
 "metadata": {
  "kernelspec": {
   "display_name": "aqi_probability_prediction",
   "language": "python",
   "name": "python3"
  },
  "language_info": {
   "codemirror_mode": {
    "name": "ipython",
    "version": 3
   },
   "file_extension": ".py",
   "mimetype": "text/x-python",
   "name": "python",
   "nbconvert_exporter": "python",
   "pygments_lexer": "ipython3",
   "version": "3.10.11"
  }
 },
 "nbformat": 4,
 "nbformat_minor": 5
}
